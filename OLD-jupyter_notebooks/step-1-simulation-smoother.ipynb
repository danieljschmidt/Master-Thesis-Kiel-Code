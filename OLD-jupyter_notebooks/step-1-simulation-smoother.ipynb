{
 "cells": [
  {
   "cell_type": "code",
   "execution_count": 1,
   "metadata": {
    "collapsed": true
   },
   "outputs": [],
   "source": [
    "using Distributions\n",
    "using Gadfly\n",
    "using TimerOutputs"
   ]
  },
  {
   "cell_type": "code",
   "execution_count": 8,
   "metadata": {
    "collapsed": true
   },
   "outputs": [],
   "source": [
    "include(\"../src/ssm.jl\")\n",
    "include(\"../src/dfm.jl\");"
   ]
  },
  {
   "cell_type": "code",
   "execution_count": 9,
   "metadata": {},
   "outputs": [
    {
     "data": {
      "text/plain": [
       "324×20 Array{Float64,2}:\n",
       " NaN          4.17827    4.21231  …   -5.33937    6.95579   -1.36753\n",
       " NaN          4.24817    3.83587      -4.70642    5.82448   -2.65438\n",
       "   8.97427    3.65847    4.20116      -4.55248    5.24341   -3.60635\n",
       " NaN          4.62858    4.48362      -4.22738    5.48479   -4.66806\n",
       " NaN          4.03777    3.42797      -4.43718    5.01936   -3.33842\n",
       "   6.33844    2.57326    2.79114  …   -3.77558    3.4229    -3.9176 \n",
       " NaN          2.26368    3.37736      -4.2432     5.18676   -2.78738\n",
       " NaN          3.32125    4.95931      -3.64724    6.87475   -2.92985\n",
       "   2.20842    3.39572    3.71878      -4.27685    7.66086   -3.16255\n",
       " NaN          2.9122     3.90674      -4.22773    7.52143   -3.34204\n",
       " NaN          2.83153    2.56071  …   -3.14362    6.98786   -4.05882\n",
       "   6.22949    2.88426    1.99943      -4.40453    6.78511   -4.43883\n",
       " NaN          3.27745    1.4385       -5.70784    6.86947   -4.7023 \n",
       "   ⋮                              ⋱                                 \n",
       " NaN        NaN        NaN           NaN        NaN        NaN      \n",
       " NaN        NaN        NaN           NaN        NaN        NaN      \n",
       " NaN        NaN        NaN           NaN        NaN        NaN      \n",
       " NaN        NaN        NaN        …  NaN        NaN        NaN      \n",
       " NaN        NaN        NaN           NaN        NaN        NaN      \n",
       " NaN        NaN        NaN           NaN        NaN        NaN      \n",
       " NaN        NaN        NaN           NaN        NaN        NaN      \n",
       " NaN        NaN        NaN           NaN        NaN        NaN      \n",
       " NaN        NaN        NaN        …  NaN        NaN        NaN      \n",
       " NaN        NaN        NaN           NaN        NaN        NaN      \n",
       " NaN        NaN        NaN           NaN        NaN        NaN      \n",
       " NaN        NaN        NaN           NaN        NaN        NaN      "
      ]
     },
     "execution_count": 9,
     "metadata": {},
     "output_type": "execute_result"
    }
   ],
   "source": [
    "n = 20\n",
    "\n",
    "μ = zeros(n)\n",
    "λ = randn(n)\n",
    "ϕ = 0.95\n",
    "σ2v = 1.\n",
    "ψ = 0.90*ones(n)\n",
    "σ2w = [0.5*ones(n/2)..., 1.*ones(n/2)...]\n",
    "\n",
    "dfm = MixedFreqDFM(μ, λ, ϕ, σ2v, ψ, σ2w)\n",
    "ssm = get_state_space_representation(dfm)\n",
    "\n",
    "T1 = 300\n",
    "ΔT = 24     # 2 years\n",
    "T = T1 + ΔT\n",
    "x, y_unobs = simulate(ssm, T)\n",
    "\n",
    "y = fill(NaN, T, n)\n",
    "y[3:3:T1,1] = y_unobs[3:3:T1,1]\n",
    "y[1:T1,2:n] = y_unobs[1:T1,2:n]\n",
    "\n",
    "y"
   ]
  },
  {
   "cell_type": "code",
   "execution_count": 10,
   "metadata": {},
   "outputs": [
    {
     "data": {
      "text/plain": [
       "simulation_smoother (generic function with 1 method)"
      ]
     },
     "execution_count": 10,
     "metadata": {},
     "output_type": "execute_result"
    }
   ],
   "source": [
    "function simulation_smoother(y, ssm)\n",
    "    \n",
    "    xs = fast_state_smoothing(y, ssm)\n",
    "    x1, y1 = simulate(ssm, size(y,1))\n",
    "    y1[isnan.(y)] = NaN\n",
    "    xs1  = fast_state_smoothing(y1, ssm)\n",
    "    x_mcmc = x1 - xs1 + xs\n",
    "    \n",
    "    return x_mcmc\n",
    "    \n",
    "end"
   ]
  },
  {
   "cell_type": "code",
   "execution_count": 14,
   "metadata": {},
   "outputs": [],
   "source": [
    "n, k = size(ssm.B)\n",
    "\n",
    "S = 100\n",
    "\n",
    "x_all = zeros(S, T, k)\n",
    "\n",
    "to = TimerOutput()\n",
    "\n",
    "for s=1:S\n",
    "\n",
    "    @timeit to \"simulation smoother\" begin\n",
    "\n",
    "        dfm_mcmc = MixedFreqDFM(μ, λ, ϕ, σ2v, ψ, σ2w)\n",
    "        ssm_mcmc = get_state_space_representation(dfm_mcmc)\n",
    "        x1, y1 = simulate(ssm_mcmc, size(y,1))\n",
    "        y1[isnan.(y)] = NaN\n",
    "        @timeit to \"fast state smoothing\" begin\n",
    "            xs  = fast_state_smoothing(y,  ssm_mcmc)\n",
    "            xs1 = fast_state_smoothing(Matrix(y1), ssm_mcmc)\n",
    "        end\n",
    "        x_mcmc = x1 - xs1 + xs\n",
    "\n",
    "    end\n",
    "    \n",
    "    x_all[s,:,:] = x_mcmc\n",
    "    \n",
    "end"
   ]
  },
  {
   "cell_type": "code",
   "execution_count": 15,
   "metadata": {},
   "outputs": [
    {
     "name": "stdout",
     "output_type": "stream",
     "text": [
      " \u001b[1m──────────────────────────────────────────────────────────────────────────────\u001b[22m\n",
      " \u001b[1m                              \u001b[22m        Time                   Allocations      \n",
      "                               ──────────────────────   ───────────────────────\n",
      "       Tot / % measured:            33.5s / 100%            8.20GiB / 100%     \n",
      "\n",
      " Section               ncalls     time   %tot     avg     alloc   %tot      avg\n",
      " ──────────────────────────────────────────────────────────────────────────────\n",
      " simulation smoother      100    33.5s   100%   335ms   8.20GiB  100%   84.0MiB\n",
      "   fast state smoot...    100    32.1s  96.1%   321ms   8.08GiB  98.5%  82.7MiB\n",
      " \u001b[1m──────────────────────────────────────────────────────────────────────────────\u001b[22m"
     ]
    }
   ],
   "source": [
    "show(to)"
   ]
  },
  {
   "cell_type": "code",
   "execution_count": null,
   "metadata": {},
   "outputs": [],
   "source": [
    "plot(\n",
    "    [layer(x=1:T, y=[quantile(x_all[:,t,1],q) for t=1:T], Geom.line) for q=[0.025, 0.975]]...,\n",
    "    layer(x=1:T, y=x[:,1], Geom.line, Theme(default_color=\"red\")),\n",
    ")"
   ]
  },
  {
   "cell_type": "code",
   "execution_count": null,
   "metadata": {},
   "outputs": [],
   "source": [
    "for "
   ]
  },
  {
   "cell_type": "code",
   "execution_count": null,
   "metadata": {
    "collapsed": true
   },
   "outputs": [],
   "source": []
  }
 ],
 "metadata": {
  "kernelspec": {
   "display_name": "Julia 0.6.1",
   "language": "julia",
   "name": "julia-0.6"
  },
  "language_info": {
   "file_extension": ".jl",
   "mimetype": "application/julia",
   "name": "julia",
   "version": "0.6.1"
  }
 },
 "nbformat": 4,
 "nbformat_minor": 2
}
